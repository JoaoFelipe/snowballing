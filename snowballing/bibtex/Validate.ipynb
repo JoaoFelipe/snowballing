{
 "cells": [
  {
   "cell_type": "code",
   "execution_count": null,
   "metadata": {},
   "outputs": [],
   "source": [
    "import database\n",
    "import importlib\n",
    "import os\n",
    "from datetime import datetime\n",
    "\n",
    "from snowballing.operations import load_work, load_citations, reload\n",
    "from snowballing.operations import work_by_varname, load_work_map_all_years\n",
    "from snowballing.models import DB\n",
    "from snowballing.jupyter_utils import idisplay, work_button, new_button\n",
    "from snowballing.selenium_scholar import SeleniumScholarQuerier\n",
    "from snowballing.dbmanager import set_attribute"
   ]
  },
  {
   "cell_type": "markdown",
   "metadata": {},
   "source": [
    "## Check Work"
   ]
  },
  {
   "cell_type": "code",
   "execution_count": null,
   "metadata": {},
   "outputs": [],
   "source": [
    "reload()\n",
    "result = [\n",
    "    idisplay(work_button(w))\n",
    "    for _, w in load_work_map_all_years()\n",
    "    if w._category == \"work\"\n",
    "]\n",
    "len(result)"
   ]
  },
  {
   "cell_type": "markdown",
   "metadata": {},
   "source": [
    "## Check Due"
   ]
  },
  {
   "cell_type": "code",
   "execution_count": null,
   "metadata": {},
   "outputs": [],
   "source": [
    "reload()\n",
    "result = [\n",
    "    idisplay(work_button(w))\n",
    "    for _, w in load_work_map_all_years()\n",
    "    if w._category == \"unrelated\"\n",
    "    and not hasattr(w, \"_due\")\n",
    "]\n",
    "len(result)"
   ]
  },
  {
   "cell_type": "markdown",
   "metadata": {},
   "source": [
    "## Check Title"
   ]
  },
  {
   "cell_type": "code",
   "execution_count": null,
   "metadata": {},
   "outputs": [],
   "source": [
    "reload()\n",
    "result = [\n",
    "    idisplay(work_button(w))\n",
    "    for _, w in load_work_map_all_years()\n",
    "    if not hasattr(w, \"title\")\n",
    "    or w.title.endswith(\".\")\n",
    "]\n",
    "len(result)"
   ]
  },
  {
   "cell_type": "markdown",
   "metadata": {},
   "source": [
    "## Check Author"
   ]
  },
  {
   "cell_type": "code",
   "execution_count": null,
   "metadata": {},
   "outputs": [],
   "source": [
    "reload()\n",
    "result = [\n",
    "    idisplay(work_button(w))\n",
    "    for _, w in load_work_map_all_years()\n",
    "    if not hasattr(w, \"author\")\n",
    "    or w.author.endswith(\".\")\n",
    "    and not w.author.endswith(\" al.\")\n",
    "    and not w.author[-3] in \"- \" and w.author[-2].isalpha()\n",
    "]\n",
    "len(result)"
   ]
  },
  {
   "cell_type": "markdown",
   "metadata": {},
   "source": [
    "## Check File/Link"
   ]
  },
  {
   "cell_type": "code",
   "execution_count": null,
   "metadata": {
    "scrolled": true
   },
   "outputs": [],
   "source": [
    "def check_file(arg):\n",
    "    k, w = arg\n",
    "    if hasattr(w, \"_url\") or w._category in (\"nofile\", \"site\"):\n",
    "        return (k, w, \"\")\n",
    "    if isinstance(getattr(w, \"_file\"), str):\n",
    "        if os.path.exists(os.path.join(\"files\", w._file.split(\"#\")[0])):\n",
    "            return (k, w, \"\")\n",
    "        return (k, w, \"inexistent\")\n",
    "    if w.file is None:\n",
    "        return (k, w, \"no attribute\")\n",
    "    return (k, w, \"type error\")\n",
    "\n",
    "reload()\n",
    "result = [\n",
    "    idisplay(work_button(w), r)\n",
    "    for _, w, r in map(check_file, load_work_map_all_years())\n",
    "    if r\n",
    "]\n",
    "len(result)"
   ]
  },
  {
   "cell_type": "code",
   "execution_count": null,
   "metadata": {
    "scrolled": true
   },
   "outputs": [],
   "source": [
    "declared_files = {\n",
    "    w._file.split(\"#\")[0] for k, w in load_work_map_all_years()\n",
    "    if isinstance(w._file, str)\n",
    "}\n",
    "set(os.listdir('files')) - declared_files - {'alternatives'}"
   ]
  },
  {
   "cell_type": "markdown",
   "metadata": {},
   "source": [
    "## Check nofile"
   ]
  },
  {
   "cell_type": "code",
   "execution_count": null,
   "metadata": {
    "scrolled": true
   },
   "outputs": [],
   "source": [
    "from IPython.display import display\n",
    "reload()\n",
    "result = [\n",
    "    idisplay(work_button(w))\n",
    "    for _, w in load_work_map_all_years()\n",
    "    if w._category == \"nofile\"\n",
    "]\n",
    "len(result)"
   ]
  },
  {
   "cell_type": "markdown",
   "metadata": {},
   "source": [
    "## Scholar"
   ]
  },
  {
   "cell_type": "code",
   "execution_count": null,
   "metadata": {
    "scrolled": true
   },
   "outputs": [],
   "source": [
    "querier = None\n",
    "reload()\n",
    "worklist = sorted(\n",
    "    [k for k, w in load_work_map_all_years() if not getattr(w, \"_scholar_ok\", False)],\n",
    "    key=lambda x: (int(x[-5:-1]), x)\n",
    ")\n",
    "len(worklist)"
   ]
  },
  {
   "cell_type": "code",
   "execution_count": null,
   "metadata": {},
   "outputs": [],
   "source": [
    "if worklist and querier is None:\n",
    "    querier = SeleniumScholarQuerier()\n",
    "    querier.apply_settings(10, 4)"
   ]
  },
  {
   "cell_type": "code",
   "execution_count": null,
   "metadata": {
    "scrolled": true
   },
   "outputs": [],
   "source": [
    "from snowballing.snowballing import ScholarUpdate\n",
    "supdate = ScholarUpdate(querier, worklist, force=False)"
   ]
  },
  {
   "cell_type": "code",
   "execution_count": null,
   "metadata": {
    "scrolled": false
   },
   "outputs": [],
   "source": [
    "supdate"
   ]
  },
  {
   "cell_type": "code",
   "execution_count": null,
   "metadata": {},
   "outputs": [],
   "source": [
    "{w._scholar_ok for k, w in load_work_map_all_years() if getattr(w, \"_scholar_ok\", False)}"
   ]
  },
  {
   "cell_type": "markdown",
   "metadata": {},
   "source": [
    "## Forward\n",
    "\n",
    "Finding scholar cluster: http://webapps.stackexchange.com/questions/45333/how-to-create-a-citation-alert-for-a-paper-without-citation-in-google-scholar"
   ]
  },
  {
   "cell_type": "code",
   "execution_count": null,
   "metadata": {},
   "outputs": [],
   "source": [
    "def set_snowball_date_button(key, date):\n",
    "    def click(w):\n",
    "        set_attribute(key, \"snowball\", \"datetime({0.year}, {0.month}, {0.day})\".format(date))\n",
    "    return new_button(\"Set date\", click)\n",
    "    \n",
    "date = datetime(2017, 3, 6)\n",
    "reload()\n",
    "result = [\n",
    "    idisplay(\n",
    "        work_button(w),\n",
    "        set_snowball_date_button(k, date),\n",
    "        '\"{}\", citation_file=\"{}\"'.format(k, getattr(w, \"_citation_file\", w._metakey))\n",
    "            if hasattr(w, '_scholar') else w.title,\n",
    "        label=False\n",
    "    )\n",
    "    for k, w in load_work_map_all_years()\n",
    "    if hasattr(w, '_snowball')\n",
    "    and w._category == \"snowball\"\n",
    "    and w._snowball != date\n",
    "]\n",
    "len(result)"
   ]
  },
  {
   "cell_type": "markdown",
   "metadata": {
    "collapsed": true
   },
   "source": [
    "## Tracking"
   ]
  },
  {
   "cell_type": "code",
   "execution_count": null,
   "metadata": {},
   "outputs": [],
   "source": [
    "def set_tracking_button(key):\n",
    "    def click(w):\n",
    "        set_attribute(key, \"_tracking\", \"alert\")\n",
    "    return new_button(\"Set track\", click)\n",
    "\n",
    "reload()\n",
    "result = [\n",
    "    idisplay(\n",
    "        work_button(w),\n",
    "        set_tracking_button(k),\n",
    "        \"https://scholar.google.com/scholar?cluster={}&hl=en&as_sdt=2005&sciodt=0,5\".format(w._cluster_id)\n",
    "            if hasattr(w, '_cluster_id') else w.title,\n",
    "        getattr(w, '_scholar', ''),\n",
    "        label=False,\n",
    "    )\n",
    "    for k, w in load_work_map_all_years()\n",
    "    if getattr(w, \"_tracking\", \"\") not in (\"alert\", \"impossible\")\n",
    "    and w._category == \"snowball\"\n",
    "]\n",
    "len(result)"
   ]
  },
  {
   "cell_type": "code",
   "execution_count": null,
   "metadata": {},
   "outputs": [],
   "source": [
    "len({k for k, w in load_work_map_all_years() if w._category == \"snowball\"})"
   ]
  },
  {
   "cell_type": "markdown",
   "metadata": {
    "collapsed": true
   },
   "source": [
    "## Dash"
   ]
  },
  {
   "cell_type": "code",
   "execution_count": null,
   "metadata": {},
   "outputs": [],
   "source": [
    "def check_dash(ele):\n",
    "    k, w = ele\n",
    "    def create_button(attr):\n",
    "        def click(_):\n",
    "            set_attribute(k, attr, str(getattr(w, attr)).replace(\"-\", \"--\"))\n",
    "        return new_button(\"Set \" + attr, click)\n",
    "    reasons = []\n",
    "    if isinstance(getattr(w, 'pages', ''), int):\n",
    "        reasons.append(create_button('pages'))\n",
    "    elif getattr(w, 'pages', '').count('-') not in (0, 2):\n",
    "        reasons.append(create_button('pages'))\n",
    "    if isinstance(getattr(w, 'volume', ''), int):\n",
    "        reasons.append(create_button('volume'))\n",
    "    elif getattr(w, 'volume', '').count('-') not in (0, 2):\n",
    "        reasons.append(create_button('volume'))\n",
    "    if isinstance(getattr(w, 'number', ''), int):\n",
    "        reasons.append(create_button('number'))\n",
    "    elif getattr(w, 'number', '').count('-') not in (0, 2):\n",
    "        reasons.append(create_button('number'))\n",
    "    return k, w, reasons\n",
    "\n",
    "reload()\n",
    "result = [\n",
    "    idisplay(work_button(w), *r)\n",
    "    for k, w, r in map(check_dash, load_work_map_all_years())\n",
    "    if r\n",
    "]\n",
    "len(result)"
   ]
  },
  {
   "cell_type": "code",
   "execution_count": null,
   "metadata": {},
   "outputs": [],
   "source": []
  }
 ],
 "metadata": {
  "kernelspec": {
   "display_name": "Python 3",
   "language": "python",
   "name": "python3"
  },
  "language_info": {
   "codemirror_mode": {
    "name": "ipython",
    "version": 3
   },
   "file_extension": ".py",
   "mimetype": "text/x-python",
   "name": "python",
   "nbconvert_exporter": "python",
   "pygments_lexer": "ipython3",
   "version": "3.7.5"
  },
  "toc": {
   "nav_menu": {
    "height": "142px",
    "width": "252px"
   },
   "navigate_menu": true,
   "number_sections": true,
   "sideBar": true,
   "threshold": 4,
   "toc_cell": false,
   "toc_section_display": "block",
   "toc_window_display": false
  },
  "widgets": {
   "state": {
    "163969c3dd3449fa84df6bb2a9eddb50": {
     "views": [
      {
       "cell_index": 14
      }
     ]
    },
    "e148968a58354579a5d15c603ad4f1b6": {
     "views": [
      {
       "cell_index": 14
      }
     ]
    }
   },
   "version": "1.2.0"
  }
 },
 "nbformat": 4,
 "nbformat_minor": 2
}
