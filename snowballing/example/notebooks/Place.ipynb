{
 "cells": [
  {
   "cell_type": "code",
   "execution_count": null,
   "metadata": {
    "collapsed": false
   },
   "outputs": [],
   "source": [
    "import os, sys\n",
    "sys.path.insert(1, os.path.join(sys.path[0], '..'))\n",
    "from collections import Counter\n",
    "\n",
    "import pandas as pd\n",
    "import seaborn as sns\n",
    "import matplotlib\n",
    "import pylab\n",
    "\n",
    "from matplotlib import pyplot as plt\n",
    "from pylab import rcParams\n",
    "\n",
    "\n",
    "import database\n",
    "from snowballing.operations import load_work, load_citations, reload\n",
    "from snowballing.graph import getcolors\n",
    "%matplotlib inline\n",
    "\n",
    "reload()\n",
    "related = [x for x in load_work() if x.category in (\"snowball\", \"ok\")]\n",
    "types = Counter(x.place.type for x in related)\n",
    "types"
   ]
  },
  {
   "cell_type": "code",
   "execution_count": null,
   "metadata": {
    "collapsed": false
   },
   "outputs": [],
   "source": [
    "counter = Counter(x.place for x in related)\n",
    "counter"
   ]
  },
  {
   "cell_type": "code",
   "execution_count": null,
   "metadata": {
    "collapsed": false
   },
   "outputs": [],
   "source": [
    "top = [(place, quantity)\n",
    " for place, quantity in counter.most_common()\n",
    " if quantity > 1\n",
    " if place.acronym != \"Thesis\"\n",
    "]\n",
    "top"
   ]
  },
  {
   "cell_type": "code",
   "execution_count": null,
   "metadata": {
    "collapsed": false
   },
   "outputs": [],
   "source": [
    "sns.set(style='ticks', palette='BuGn') #Set2\n",
    "rcParams['figure.figsize'] = 13, 3"
   ]
  },
  {
   "cell_type": "code",
   "execution_count": null,
   "metadata": {
    "collapsed": false,
    "scrolled": true
   },
   "outputs": [],
   "source": [
    "elements = sorted(counter.most_common(), key=lambda x: (-x[1], x[0].type, x[0].acronym))\n",
    "rename = [\n",
    "    (\"\\n\".join(place.acronym.split()), quantity, place.type)\n",
    "    for place, quantity in elements\n",
    "]\n",
    "\n",
    "TYPES = ['Conference', 'Journal', 'Thesis']\n",
    "\n",
    "color_def = {\n",
    "    name: tuple(x/255 for x in color)\n",
    "    for name, color in zip(TYPES, getcolors())\n",
    "}\n",
    "\n",
    "colors = [\n",
    "    color_def[place.type]\n",
    "    for place, qtd in elements\n",
    "]\n",
    "\n",
    "df = pd.DataFrame(rename, columns=[\"Place\", \"Quantity\", \"Type\"])\n",
    "ax = sns.barplot(x=\"Place\", y=\"Quantity\", data=df, palette=colors)\n",
    "plt.xticks(rotation=45)\n",
    "legend_patches = [\n",
    "    matplotlib.patches.Patch(color=color_def[label], label=label)\n",
    "    for label in TYPES\n",
    "]\n",
    "ax.set(ylabel='Count')\n",
    "plt.legend(handles=legend_patches)\n",
    "plt.gcf().subplots_adjust(left=0.05, right=1, top=0.95, bottom=0.40)\n",
    "rcParams['figure.figsize'] = 13, 3\n",
    "\n",
    "ax.xaxis.labelpad = -15\n",
    "plt.show()\n",
    "plt.savefig(\"output/place.pdf\")"
   ]
  },
  {
   "cell_type": "code",
   "execution_count": null,
   "metadata": {
    "collapsed": false
   },
   "outputs": [],
   "source": [
    "sum(x for y, x in elements)"
   ]
  },
  {
   "cell_type": "code",
   "execution_count": null,
   "metadata": {
    "collapsed": true
   },
   "outputs": [],
   "source": []
  }
 ],
 "metadata": {
  "kernelspec": {
   "display_name": "Python 3",
   "language": "python",
   "name": "python3"
  },
  "language_info": {
   "codemirror_mode": {
    "name": "ipython",
    "version": 3
   },
   "file_extension": ".py",
   "mimetype": "text/x-python",
   "name": "python",
   "nbconvert_exporter": "python",
   "pygments_lexer": "ipython3",
   "version": "3.6.0"
  },
  "toc": {
   "nav_menu": {
    "height": "12px",
    "width": "252px"
   },
   "navigate_menu": true,
   "number_sections": true,
   "sideBar": true,
   "threshold": 4,
   "toc_cell": false,
   "toc_section_display": "block",
   "toc_window_display": false
  }
 },
 "nbformat": 4,
 "nbformat_minor": 0
}
