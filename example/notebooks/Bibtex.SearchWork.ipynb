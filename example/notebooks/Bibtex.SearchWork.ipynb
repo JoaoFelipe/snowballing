{
 "cells": [
  {
   "cell_type": "markdown",
   "metadata": {},
   "source": [
    "# Search Work and Export BibTeX"
   ]
  },
  {
   "cell_type": "code",
   "execution_count": null,
   "metadata": {
    "collapsed": false
   },
   "outputs": [],
   "source": [
    "import os, sys\n",
    "sys.path.insert(1, os.path.join(sys.path[0], '..'))\n",
    "import database\n",
    "from snowballing.operations import load_work, work_to_bibtex, reload\n",
    "reload()"
   ]
  },
  {
   "cell_type": "code",
   "execution_count": null,
   "metadata": {
    "collapsed": true
   },
   "outputs": [],
   "source": [
    "def find(text):\n",
    "    words = text.split()\n",
    "    for work in load_work():\n",
    "        match = True\n",
    "        for word in words:\n",
    "            if not any(word.lower() in str(getattr(work, attr)).lower() for attr in dir(work) if not attr.startswith(\"_\")):\n",
    "                match = False\n",
    "                break\n",
    "        if match:\n",
    "            yield work_to_bibtex(work)"
   ]
  },
  {
   "cell_type": "code",
   "execution_count": null,
   "metadata": {
    "collapsed": false,
    "scrolled": true
   },
   "outputs": [],
   "source": [
    "from ipywidgets import widgets, interactive\n",
    "\n",
    "def result(text):\n",
    "    if len(text) > 2:\n",
    "        for work in find(text):\n",
    "            print(work.replace(\"\\n \", \"\\n  \"))\n",
    "interactive(result, text=\"\")"
   ]
  },
  {
   "cell_type": "markdown",
   "metadata": {
    "collapsed": true
   },
   "source": [
    "# Match BibTeX file to database work"
   ]
  },
  {
   "cell_type": "code",
   "execution_count": null,
   "metadata": {
    "collapsed": false
   },
   "outputs": [],
   "source": [
    "bibtex_file = 'bibliography.bib'\n",
    "\n",
    "from snowballing.operations import match_bibtex_to_work\n",
    "with open(bibtex_file) as bibtex_file:\n",
    "    bibtex_str = bibtex_file.read()\n",
    "\n",
    "matched = match_bibtex_to_work(bibtex_str.split(\"%Entries\")[-1])\n",
    "works = dict(map(reversed, matched))"
   ]
  },
  {
   "cell_type": "markdown",
   "metadata": {},
   "source": [
    "### Check if all snowballed approaches appear in the bibtex"
   ]
  },
  {
   "cell_type": "code",
   "execution_count": null,
   "metadata": {
    "collapsed": false
   },
   "outputs": [],
   "source": [
    "from snowballing.approaches import get_approaches\n",
    "all_approaches = get_approaches()\n",
    "len(script)"
   ]
  },
  {
   "cell_type": "code",
   "execution_count": null,
   "metadata": {
    "collapsed": false
   },
   "outputs": [],
   "source": [
    "for a, m in all_approaches:\n",
    "    for w in a.work:\n",
    "        if w not in works and \"snowball\" in w.category:\n",
    "            print(w.metakey, w)"
   ]
  },
  {
   "cell_type": "markdown",
   "metadata": {},
   "source": [
    "### Look for unmatched work"
   ]
  },
  {
   "cell_type": "code",
   "execution_count": null,
   "metadata": {
    "collapsed": true
   },
   "outputs": [],
   "source": [
    "from copy import copy\n",
    "from snowballing.operations import info_to_code, bibtex_to_info\n",
    "unmatched = [x[0] for x in matched if not x[1]]\n",
    "for unmatch in unmatched:\n",
    "    print(info_to_code(bibtex_to_info(copy(unmatch))))"
   ]
  },
  {
   "cell_type": "markdown",
   "metadata": {},
   "source": [
    "### Recreate Bibtex"
   ]
  },
  {
   "cell_type": "code",
   "execution_count": null,
   "metadata": {
    "collapsed": false
   },
   "outputs": [],
   "source": [
    "from snowballing.operations import work_to_bibtex_entry\n",
    "result = [\n",
    "    work_to_bibtex_entry(work, name=entry['ID'], acronym=True)\n",
    "    for entry, work in matched\n",
    "]"
   ]
  },
  {
   "cell_type": "code",
   "execution_count": null,
   "metadata": {
    "collapsed": true
   },
   "outputs": [],
   "source": [
    "from bibtexparser.bwriter import BibTexWriter\n",
    "from bibtexparser.bibdatabase import BibDatabase\n",
    "db = BibDatabase()\n",
    "db.entries = result\n",
    "\n",
    "writer = BibTexWriter()\n",
    "writer.indent = '  '     # indent entries with 4 spaces instead of one"
   ]
  },
  {
   "cell_type": "code",
   "execution_count": null,
   "metadata": {
    "collapsed": true
   },
   "outputs": [],
   "source": [
    "with open(bibtex_file, 'w') as bibtex_file:\n",
    "    bibtex_file.write(bibtex_str.split(\"%Entries\")[0] + \"%Entries\\n\\n\" + writer.write(db))"
   ]
  },
  {
   "cell_type": "code",
   "execution_count": null,
   "metadata": {
    "collapsed": true
   },
   "outputs": [],
   "source": []
  }
 ],
 "metadata": {
  "kernelspec": {
   "display_name": "Python 3",
   "language": "python",
   "name": "python3"
  },
  "language_info": {
   "codemirror_mode": {
    "name": "ipython",
    "version": 3
   },
   "file_extension": ".py",
   "mimetype": "text/x-python",
   "name": "python",
   "nbconvert_exporter": "python",
   "pygments_lexer": "ipython3",
   "version": "3.6.0"
  },
  "toc": {
   "nav_menu": {
    "height": "12px",
    "width": "252px"
   },
   "navigate_menu": true,
   "number_sections": true,
   "sideBar": true,
   "threshold": 4,
   "toc_cell": false,
   "toc_section_display": "block",
   "toc_window_display": false
  }
 },
 "nbformat": 4,
 "nbformat_minor": 0
}
