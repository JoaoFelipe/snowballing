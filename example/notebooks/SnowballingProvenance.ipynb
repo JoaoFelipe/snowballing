{
 "cells": [
  {
   "cell_type": "code",
   "execution_count": null,
   "metadata": {
    "collapsed": true
   },
   "outputs": [],
   "source": [
    "import os, sys\n",
    "sys.path.insert(1, os.path.join(sys.path[0], '..'))\n",
    "import database\n",
    "from snowballing.operations import reload, work_by_varname\n",
    "from snowballing.snowballing import snowballing, create_provenance, log_to_provn\n",
    "reload()"
   ]
  },
  {
   "cell_type": "code",
   "execution_count": null,
   "metadata": {
    "collapsed": false
   },
   "outputs": [],
   "source": [
    "reload()\n",
    "frontier = {work_by_varname(x) for x in (\n",
    "    \"murta2014a\",\n",
    ")}\n",
    "filter_function = lambda x: x.category == \"snowball\"\n",
    "frontier, log, visited = create_provenance(\n",
    "    frontier, filter_function, backward_first=True\n",
    ")\n",
    "\n",
    "log\n",
    "len(visited)"
   ]
  },
  {
   "cell_type": "code",
   "execution_count": null,
   "metadata": {
    "collapsed": false
   },
   "outputs": [],
   "source": [
    "log"
   ]
  },
  {
   "cell_type": "code",
   "execution_count": null,
   "metadata": {
    "collapsed": false
   },
   "outputs": [],
   "source": [
    "with open(\"output/snowballing.provn\", \"w\") as provn:\n",
    "    provn.write(log_to_provn(log))"
   ]
  },
  {
   "cell_type": "code",
   "execution_count": null,
   "metadata": {
    "collapsed": false
   },
   "outputs": [],
   "source": [
    "!provconvert.bat -infile snowballing.provn -outfile snowballing.dot"
   ]
  },
  {
   "cell_type": "code",
   "execution_count": null,
   "metadata": {
    "collapsed": true
   },
   "outputs": [],
   "source": [
    "with open(\"output/snowballing.dot\", \"r\") as prov_dot:\n",
    "    text = prov_dot.read().replace('rankdir=\"BT\";', 'rankdir=\"RL\"; ranksep=\"0.1\";')\n",
    "with open(\"output/snowballing.dot\", \"w\") as prov_dot:\n",
    "    prov_dot.write(text)"
   ]
  },
  {
   "cell_type": "code",
   "execution_count": null,
   "metadata": {
    "collapsed": false
   },
   "outputs": [],
   "source": [
    "!dot -Tpng output/snowballing.dot -ooutput/snowballing.png\n",
    "!dot -Tsvg output/snowballing.dot -ooutput/snowballing.svg\n",
    "!inkscape -D -z --file=output/snowballing.svg --export-pdf=../csur/figs/snowballing.pdf"
   ]
  },
  {
   "cell_type": "code",
   "execution_count": null,
   "metadata": {
    "collapsed": false
   },
   "outputs": [],
   "source": [
    "len(visited)"
   ]
  },
  {
   "cell_type": "code",
   "execution_count": null,
   "metadata": {
    "collapsed": false
   },
   "outputs": [],
   "source": [
    "len([x for x in visited if x.category in {\"snowball\"}])"
   ]
  },
  {
   "cell_type": "code",
   "execution_count": null,
   "metadata": {
    "collapsed": false
   },
   "outputs": [],
   "source": [
    "from snowballing.approaches import get_approaches\n",
    "len(get_approaches())"
   ]
  },
  {
   "cell_type": "code",
   "execution_count": null,
   "metadata": {
    "collapsed": false
   },
   "outputs": [],
   "source": [
    "len([(x, x.year) for x in visited\n",
    "     if x.category in {\"nofile\"}\n",
    "     if x.place.name != \"Tech Report\"\n",
    "     if x.place.name != \"Book\"\n",
    "     if x.place.name != \"Patent\"\n",
    "     if x.display != x.place.acronym\n",
    "    ])"
   ]
  },
  {
   "cell_type": "code",
   "execution_count": null,
   "metadata": {
    "collapsed": false
   },
   "outputs": [],
   "source": [
    "len([x for x in visited if x.category in {\"lang\"}])"
   ]
  },
  {
   "cell_type": "code",
   "execution_count": null,
   "metadata": {
    "collapsed": false
   },
   "outputs": [],
   "source": [
    "len([x for x in visited if x.category in {\"site\"}])"
   ]
  },
  {
   "cell_type": "code",
   "execution_count": null,
   "metadata": {
    "collapsed": false
   },
   "outputs": [],
   "source": [
    "len([x for x in visited\n",
    "     if x.place.name == \"Tech Report\"\n",
    "    ])"
   ]
  },
  {
   "cell_type": "code",
   "execution_count": null,
   "metadata": {
    "collapsed": false
   },
   "outputs": [],
   "source": [
    "len([x for x in visited\n",
    "     if x.place.name == \"Book\"\n",
    "    ])"
   ]
  },
  {
   "cell_type": "code",
   "execution_count": null,
   "metadata": {
    "collapsed": false
   },
   "outputs": [],
   "source": [
    "{x.category for x in visited}"
   ]
  },
  {
   "cell_type": "code",
   "execution_count": null,
   "metadata": {
    "collapsed": false,
    "scrolled": true
   },
   "outputs": [],
   "source": [
    "[(x.year, x.authors, x.name, x.place.name, x.request) for x in visited\n",
    " if x.category in {\"nofile\"}\n",
    " if x.place.name != \"Tech Report\"\n",
    " if x.place.name != \"Book\"\n",
    " if x.place.name != \"Patent\"\n",
    " if x.display != x.place.acronym]"
   ]
  },
  {
   "cell_type": "code",
   "execution_count": null,
   "metadata": {
    "collapsed": false
   },
   "outputs": [],
   "source": [
    "len(_)"
   ]
  },
  {
   "cell_type": "code",
   "execution_count": null,
   "metadata": {
    "collapsed": true
   },
   "outputs": [],
   "source": []
  }
 ],
 "metadata": {
  "kernelspec": {
   "display_name": "Python 3",
   "language": "python",
   "name": "python3"
  },
  "language_info": {
   "codemirror_mode": {
    "name": "ipython",
    "version": 3
   },
   "file_extension": ".py",
   "mimetype": "text/x-python",
   "name": "python",
   "nbconvert_exporter": "python",
   "pygments_lexer": "ipython3",
   "version": "3.6.0"
  },
  "toc": {
   "nav_menu": {
    "height": "12px",
    "width": "252px"
   },
   "navigate_menu": true,
   "number_sections": true,
   "sideBar": true,
   "threshold": 4,
   "toc_cell": false,
   "toc_section_display": "block",
   "toc_window_display": false
  }
 },
 "nbformat": 4,
 "nbformat_minor": 0
}
