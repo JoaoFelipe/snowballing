{
 "cells": [
  {
   "cell_type": "markdown",
   "metadata": {},
   "source": [
    "# Index\n",
    "\n",
    "- [Work](#Work)\n",
    "- [WorkOk](#WorkOk)\n",
    "- [WorkSnowball](#WorkSnowball)\n",
    "- [Forward Snowballing](#Forward-Snowballing)\n",
    "- [Other](#Other)\n",
    "  - [WorkUnrelated](#WorkUnrelated)\n",
    "  - [WorkNoFile](#WorkNoFile)\n",
    "  - [WorkLang](#WorkLang)"
   ]
  },
  {
   "cell_type": "code",
   "execution_count": null,
   "metadata": {
    "collapsed": true
   },
   "outputs": [],
   "source": [
    "import database\n",
    "from datetime import datetime\n",
    "from snowballing.operations import load_work, reload\n",
    "from snowballing.jupyter_utils import work_button, idisplay\n",
    "reload()"
   ]
  },
  {
   "cell_type": "markdown",
   "metadata": {},
   "source": [
    "# Work\n",
    "\n",
    "Since this is the default class, it is used as a safety check.\n",
    "\n",
    "No work should be stored with this class at the end of the snowballing.\n",
    "\n",
    "If the work has this class, we did not decide yet whether the work is related or not."
   ]
  },
  {
   "cell_type": "code",
   "execution_count": null,
   "metadata": {
    "collapsed": false
   },
   "outputs": [],
   "source": [
    "reload()\n",
    "query = [idisplay(work_button(w)) for w in load_work() if w.category == \"work\"]\n",
    "len(query)"
   ]
  },
  {
   "cell_type": "markdown",
   "metadata": {},
   "source": [
    "# WorkOk\n",
    "\n",
    "This class is used for related work that has not been explored with a backward snowballing yet."
   ]
  },
  {
   "cell_type": "code",
   "execution_count": null,
   "metadata": {
    "collapsed": false
   },
   "outputs": [],
   "source": [
    "reload()\n",
    "query = [idisplay(work_button(w)) for w in load_work() if w.category == \"ok\"]\n",
    "len(query)"
   ]
  },
  {
   "cell_type": "markdown",
   "metadata": {},
   "source": [
    "# WorkSnowball\n",
    "\n",
    "This class is used for related work that has been explored with backward snowballing."
   ]
  },
  {
   "cell_type": "code",
   "execution_count": null,
   "metadata": {
    "collapsed": false
   },
   "outputs": [],
   "source": [
    "reload()\n",
    "query = [idisplay(work_button(w)) for w in load_work() if w.category == \"snowball\"]\n",
    "len(query)"
   ]
  },
  {
   "cell_type": "markdown",
   "metadata": {},
   "source": [
    "# Forward Snowballing\n",
    "\n",
    "Use the attribute .snowball to indicate when were performed the last snowball.\n",
    "\n",
    "The query search WorkOk and WorkSnowball with outdated snowball attributes.\n"
   ]
  },
  {
   "cell_type": "code",
   "execution_count": null,
   "metadata": {
    "collapsed": false
   },
   "outputs": [],
   "source": [
    "current_snowball = datetime(2017, 7, 26)\n",
    "\n",
    "reload()\n",
    "query = [\n",
    "    idisplay(work_button(w))\n",
    "    for w in load_work()\n",
    "    if w.category in (\"ok\", \"snowball\")\n",
    "    if not hasattr(w, \"snowball\")\n",
    "    or w.snowball < current_snowball\n",
    "]\n",
    "len(query)"
   ]
  },
  {
   "cell_type": "markdown",
   "metadata": {},
   "source": [
    "# Other"
   ]
  },
  {
   "cell_type": "markdown",
   "metadata": {},
   "source": [
    "## WorkUnrelated\n",
    "\n",
    "Number of work unrelated to the snowballing"
   ]
  },
  {
   "cell_type": "code",
   "execution_count": null,
   "metadata": {
    "collapsed": false,
    "scrolled": true
   },
   "outputs": [],
   "source": [
    "sum(\n",
    "    1\n",
    "    for w in load_work()\n",
    "    if w.category == \"unrelated\"\n",
    ")"
   ]
  },
  {
   "cell_type": "markdown",
   "metadata": {},
   "source": [
    "## WorkNoFile\n",
    "\n",
    "Number of work without files"
   ]
  },
  {
   "cell_type": "code",
   "execution_count": null,
   "metadata": {
    "collapsed": false,
    "scrolled": true
   },
   "outputs": [],
   "source": [
    "sum(\n",
    "    1\n",
    "    for w in load_work()\n",
    "    if w.category == \"nofile\"\n",
    ")"
   ]
  },
  {
   "cell_type": "markdown",
   "metadata": {},
   "source": [
    "## WorkLang\n",
    "\n",
    "Number of work in foreign languages"
   ]
  },
  {
   "cell_type": "code",
   "execution_count": null,
   "metadata": {
    "collapsed": false,
    "scrolled": true
   },
   "outputs": [],
   "source": [
    "sum(\n",
    "    1\n",
    "    for w in load_work()\n",
    "    if w.category == \"lang\"\n",
    ")"
   ]
  },
  {
   "cell_type": "code",
   "execution_count": null,
   "metadata": {
    "collapsed": true
   },
   "outputs": [],
   "source": []
  }
 ],
 "metadata": {
  "kernelspec": {
   "display_name": "Python 3",
   "language": "python",
   "name": "python3"
  },
  "language_info": {
   "codemirror_mode": {
    "name": "ipython",
    "version": 3
   },
   "file_extension": ".py",
   "mimetype": "text/x-python",
   "name": "python",
   "nbconvert_exporter": "python",
   "pygments_lexer": "ipython3",
   "version": "3.6.0"
  },
  "toc": {
   "nav_menu": {
    "height": "12px",
    "width": "252px"
   },
   "navigate_menu": true,
   "number_sections": true,
   "sideBar": true,
   "threshold": 4,
   "toc_cell": false,
   "toc_section_display": "block",
   "toc_window_display": false
  }
 },
 "nbformat": 4,
 "nbformat_minor": 2
}
